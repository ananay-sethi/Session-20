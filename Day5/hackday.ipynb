{
 "cells": [
  {
   "cell_type": "markdown",
   "metadata": {},
   "source": [
    "# HACK DAY SESSION 20\n",
    "\n",
    "***Transient/object detection simulation: input survey sky coverage/cadence/depth***\n",
    "\n",
    "***and volumetric object occurrence transient rate/brightness range,*** \n",
    "\n",
    "***output rate + number of transients/objects over survey period***\n",
    "\n",
    "Ananay S, Kovi R, Kaila N"
   ]
  },
  {
   "cell_type": "code",
   "execution_count": 1,
   "metadata": {},
   "outputs": [
    {
     "name": "stdout",
     "output_type": "stream",
     "text": [
      "Intel MKL WARNING: Support of Intel(R) Streaming SIMD Extensions 4.2 (Intel(R) SSE4.2) enabled only processors has been deprecated. Intel oneAPI Math Kernel Library 2025.0 will require Intel(R) Advanced Vector Extensions (Intel(R) AVX) instructions.\n",
      "Intel MKL WARNING: Support of Intel(R) Streaming SIMD Extensions 4.2 (Intel(R) SSE4.2) enabled only processors has been deprecated. Intel oneAPI Math Kernel Library 2025.0 will require Intel(R) Advanced Vector Extensions (Intel(R) AVX) instructions.\n"
     ]
    }
   ],
   "source": [
    "import numpy as np \n",
    "import matplotlib.pyplot as plt\n",
    "\n",
    "from dataclasses import dataclass\n",
    "from astropy import units as u"
   ]
  },
  {
   "cell_type": "code",
   "execution_count": 26,
   "metadata": {},
   "outputs": [],
   "source": [
    "@dataclass\n",
    "class AstroObject:\n",
    "    \"\"\"Class containing properties of astronomical objects\"\"\"\n",
    "\n",
    "    obj_types = {0:'TZO',\n",
    "                 1:'Hot Jupiter',\n",
    "                 2:'M Dwarf',\n",
    "                 3:\"Star\",\n",
    "                 4:\"Supernova\"\n",
    "    }\n",
    "\n",
    "\n",
    "    st: int\n",
    "    l_avg: u.Quantity #erg/s\n",
    "    l_min: u.Quantity #erg/s\n",
    "    l_max: u.Quantity #erg/s\n",
    "    vr: u.Quantity #/pc^3\n",
    "\n",
    "    def __post_init__(self):\n",
    "        self.object_type = self.obj_types[self.st]\n",
    "        self.luminosity_avg = self.l_avg.to(u.erg/u.second)\n",
    "        self.luminosity_min = self.l_min.to(u.erg/u.second)\n",
    "        self.luminosity_max = self.l_max.to(u.erg/u.second)\n",
    "        self.volumetric_rate = self.vr.to(1./(u.Mpc**3 * u.year))\n",
    "\n",
    "    def print_params(self):\n",
    "        print('Type:',self.object_type)\n",
    "        print('Volumetric rate:',self.volumetric_rate)\n",
    "        print('Luminosity peak average:',self.luminosity_avg)\n",
    "        print('Luminosity peak min/max:',self.luminosity_min,'/',self.luminosity_max)\n",
    "\n",
    "\n",
    "\n",
    "@dataclass\n",
    "class Survey:\n",
    "    \"\"\"Class containing the basic properties of an astronomical survey\"\"\"\n",
    "    \n",
    "    spws = {0: 'Radio',\n",
    "            1: 'Infrared',\n",
    "            2: 'Visible',\n",
    "            3: 'Ultraviolet'\n",
    "    }\n",
    "\n",
    "    name: str\n",
    "    spw: int #wavelength range from dictionary\n",
    "    field_of_view: u.Quantity #normally in square degrees\n",
    "    noise_thresh: u.Quantity #normally in mJy\n",
    "    avg_cadence: u.Quantity #normally in days\n",
    "    total_coverage: u.Quantity #normally in square degrees\n",
    "    obs_time: u.Quantity #normally in mins\n",
    "    total_obs_time: u.Quantity #this is how many times (mins) that the object has been observed\n",
    "\n",
    "    def __post_init__(self):\n",
    "            self.spectral_window = self.spws[self.spw]\n",
    "    \n",
    "    def effective_rate(self, volumetric_rate: u.Quantity):\n",
    "        vol_fraction = self.total_coverage/(41253*u.deg**2)\n",
    "        eff_rate = volumetric_rate*vol_fraction\n",
    "        return eff_rate\n",
    "    \n",
    "    # to reduce rms, stacking of epochs\n",
    "    # fns based on no. obs -> takes cadence from one survey, sensitivty, and calculating what the sensitivity is going to look like now\n",
    "    \n",
    "    def predict_next_observation(self, astro_object: AstroObject, num_observations: int = 10):\n",
    "        \"\"\"\n",
    "        Predicts the next sensitivity measurement and cadence value based on stacked observations.\n",
    "\n",
    "        Args:\n",
    "        - astro_object: An instance of the AstroObject class containing object properties\n",
    "        - num_observations: Number of observations to stack for prediction\n",
    "\n",
    "        Returns:\n",
    "        - Tuple of predicted sensitivity measurement (u.Quantity) and cadence value (u.Quantity)\n",
    "        \"\"\"\n",
    "        # Generate mock data for sensitivity measurements and cadence values\n",
    "        sensitivity_data = np.random.uniform(1, 10, num_observations) * self.noise_thresh\n",
    "        cadence_data = np.random.uniform(0.5, 1.5, num_observations) * self.avg_cadence\n",
    "\n",
    "        # Use AstroObject properties to influence prediction\n",
    "        luminosity_avg = astro_object.luminosity_avg.to(u.erg / u.s).value\n",
    "        volumetric_rate = astro_object.volumetric_rate.to(1/(u.Mpc**3 * u.year)).value\n",
    "\n",
    "        # Example calculation: reduce noise threshold and increase total coverage\n",
    "        reduced_noise_thresh = self.noise_thresh / np.sqrt(num_observations)\n",
    "        increased_total_coverage = self.total_coverage * num_observations\n",
    "        # Calculate number of detections\n",
    "        num_detections = int(self.total_obs_time / self.obs_time * num_observations)\n",
    "\n",
    "        return reduced_noise_thresh, increased_total_coverage, num_detections\n"
   ]
  },
  {
   "cell_type": "code",
   "execution_count": 27,
   "metadata": {},
   "outputs": [
    {
     "data": {
      "text/plain": [
       "Survey(name='VAST', spw=0, field_of_view=30, noise_thresh=0.25, avg_cadence=30, total_coverage=10000.0, obs_time=15, total_obs_time=900)"
      ]
     },
     "execution_count": 27,
     "metadata": {},
     "output_type": "execute_result"
    }
   ],
   "source": [
    "# Example\n",
    "vast_survey = Survey(\"VAST\", spw=0, field_of_view=30, noise_thresh=0.25, avg_cadence=30, total_coverage=1e4, obs_time=15, total_obs_time=900)\n",
    "vast_survey"
   ]
  },
  {
   "cell_type": "code",
   "execution_count": 28,
   "metadata": {},
   "outputs": [
    {
     "name": "stdout",
     "output_type": "stream",
     "text": [
      "Type: Supernova\n",
      "Volumetric rate: 0.000106 1 / (Mpc3 yr)\n",
      "Luminosity peak average: 3.1622776601683795e+25 erg / s\n",
      "Luminosity peak min/max: 3.162277660168379e+23 erg / s / 1e+29 erg / s\n"
     ]
    }
   ],
   "source": [
    "# Example\n",
    "h = 0.7\n",
    "vr_sn = (1.06e-4)*((h/0.7)**3)/(u.Mpc**3 * u.year)\n",
    "\n",
    "L_peak = (10**25.5)*u.erg/(u.second)\n",
    "L_low = (10**23.5)*u.erg/(u.second)\n",
    "L_high = (10**29)*u.erg/(u.second)\n",
    "\n",
    "sn = AstroObject(4,L_peak,L_low,L_high,vr_sn)\n",
    "\n",
    "sn.print_params()\n"
   ]
  },
  {
   "cell_type": "code",
   "execution_count": 32,
   "metadata": {},
   "outputs": [
    {
     "name": "stdout",
     "output_type": "stream",
     "text": [
      "Predicted Sensitivity: 0.03227486121839514 mJy\n",
      "Predicted Coverage: 600000.0 deg squared\n",
      "Number of Detections: 3600\n"
     ]
    }
   ],
   "source": [
    "# Test Case\n",
    "# Test the predict_next_observation method of Survey\n",
    "predicted_sensitivity, predicted_coverage, num_detections = vast_survey.predict_next_observation(sn,num_observations=60)\n",
    "\n",
    "# Print the predicted values\n",
    "print(\"Predicted Sensitivity:\", predicted_sensitivity, \"mJy\")\n",
    "print(\"Predicted Coverage:\", predicted_coverage, \"deg squared\")\n",
    "print(\"Number of Detections per year:\", num_detections)"
   ]
  },
  {
   "cell_type": "code",
   "execution_count": 30,
   "metadata": {},
   "outputs": [
    {
     "name": "stdout",
     "output_type": "stream",
     "text": [
      "9.04e-11 1 / (Mpc3 yr)\n",
      "Type: TZO\n",
      "Volumetric rate: 9.04e-11 1 / (Mpc3 yr)\n",
      "Luminosity peak average: 2.8957059119999994e+38 erg / s\n",
      "Luminosity peak min/max: 3.8242424352e+33 erg / s / 1.119533052e+40 erg / s\n"
     ]
    }
   ],
   "source": [
    "# TZO Parameters\n",
    "\n",
    "vr_tzo = ((4e-4)*2.26e-7/(u.year*u.Mpc**3))\n",
    "print(vr_tzo)\n",
    "tzo = AstroObject(0,(7.564540e+04)*u.Lsun, (9.990184e-01)*u.Lsun, (2.924590e+06)*u.Lsun, vr_tzo)\n",
    "tzo.print_params()"
   ]
  },
  {
   "cell_type": "code",
   "execution_count": null,
   "metadata": {},
   "outputs": [],
   "source": [
    "# -----------------------------------------------------------------------------------------------------------------------------------------------------------------------------------------\n",
    "# Kovi's code\n",
    "\n",
    "################ Survey Object Class #####\n",
    "@dataclass\n",
    "class Survey:\n",
    "    \"\"\"Class containing the basic properties of an astronomical survey\"\"\"\n",
    "    \n",
    "    spws = {0: 'Radio',\n",
    "            1: 'Infrared',\n",
    "            2: 'Visible',\n",
    "            3: 'Ultraviolet'\n",
    "    }\n",
    "\n",
    "    name: str\n",
    "    spw: int #wavelength range from dictionary\n",
    "    field_of_view: u.Quantity #normally in square degrees\n",
    "    noise_thresh: u.Quantity #normally in mJy\n",
    "    avg_cadence: u.Quantity #normally in days\n",
    "    total_coverage: u.Quantity #normally in square degrees\n",
    "    standard_obs_duration: u.Quantity #normally in seconds\n",
    "    obs_duration: u.Quantity #normally in seconds\n",
    "    \n",
    "    def __post_init__(self):\n",
    "            self.spectral_window = self.spws[self.spw]\n",
    "\n",
    "    def volume_limit(self, sigma: float, max_luminosity: u.Quantity):\n",
    "        flux_limit = sigma*self.noise_thresh*np.sqrt(self.standard_obs_duration/self.obs_duration)\n",
    "        dist_limit = ((max_luminosity/(flux_limit*4*np.pi))**0.5).to(u.Mpc)\n",
    "        vol_limit = (4/3*np.pi*dist_limit**3)#*u.Mpc**3\n",
    "        return dist_limit, vol_limit\n",
    "    \n",
    "    def effective_rate(self, volumetric_rate: u.Quantity):\n",
    "        vol_fraction = self.total_coverage/(41253*u.deg**2)\n",
    "        eff_rate = volumetric_rate*vol_fraction\n",
    "        return eff_rate\n",
    "    \n",
    "#TODO: add print_params to survey class\n",
    "    \n",
    "################################################################\n",
    "\n",
    "########## Astro Object Class ################\n",
    "\n",
    "@dataclass\n",
    "class AstroObject:\n",
    "    \"\"\"Class containing properties of astronomical objects\"\"\"\n",
    "\n",
    "    obj_types = {0:'TZO',\n",
    "                 1:'Hot Jupiter',\n",
    "                 2:'M Dwarf',\n",
    "                 3:\"Star\",\n",
    "                 4:\"Supernova\"\n",
    "    }\n",
    "\n",
    "    st: int\n",
    "    l_avg: u.Quantity #erg/s\n",
    "    l_min: u.Quantity #erg/s\n",
    "    l_max: u.Quantity #erg/s\n",
    "    vr: u.Quantity #/pc^3\n",
    "\n",
    "    def __post_init__(self):\n",
    "        self.object_type = self.obj_types[self.st]\n",
    "        self.luminosity_avg = self.l_avg.to(u.erg/u.second/u.Hz)\n",
    "        self.luminosity_min = self.l_min.to(u.erg/u.second/u.Hz)\n",
    "        self.luminosity_max = self.l_max.to(u.erg/u.second/u.Hz)\n",
    "        self.volumetric_rate = self.vr.to(1./(u.Mpc**3 * u.year))\n",
    "\n",
    "    def print_params(self):\n",
    "        print('Type:',self.object_type)\n",
    "        print('Volumetric rate:',self.volumetric_rate)\n",
    "        print('Luminosity peak average:',self.luminosity_avg)\n",
    "        print('Luminosity peak min/max:',self.luminosity_min,'/',self.luminosity_max)\n",
    "    \n",
    "#######################################################################################\n",
    "            \n",
    "############## Non-Self Functions ########"
   ]
  }
 ],
 "metadata": {
  "kernelspec": {
   "display_name": "base",
   "language": "python",
   "name": "python3"
  },
  "language_info": {
   "codemirror_mode": {
    "name": "ipython",
    "version": 3
   },
   "file_extension": ".py",
   "mimetype": "text/x-python",
   "name": "python",
   "nbconvert_exporter": "python",
   "pygments_lexer": "ipython3",
   "version": "3.9.16"
  }
 },
 "nbformat": 4,
 "nbformat_minor": 2
}
